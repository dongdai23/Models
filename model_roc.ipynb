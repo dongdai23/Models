{
 "cells": [
  {
   "cell_type": "code",
   "execution_count": 72,
   "metadata": {},
   "outputs": [],
   "source": [
    "import pandas as pd\n",
    "import numpy as np\n",
    "\n",
    "import matplotlib.pyplot as plt\n",
    "%matplotlib inline\n",
    "import seaborn as sns\n",
    "sns.set(style = 'white', context = 'notebook', palette = 'deep')\n",
    "\n",
    "from sklearn.cross_validation import train_test_split\n",
    "from sklearn.metrics import confusion_matrix, roc_auc_score, roc_curve, f1_score\n",
    "from sklearn.ensemble import RandomForestClassifier, AdaBoostClassifier, GradientBoostingClassifier\n",
    "from sklearn.tree import DecisionTreeClassifier\n",
    "from sklearn.model_selection import GridSearchCV, cross_val_score, StratifiedKFold, learning_curve\n",
    "from sklearn import metrics\n",
    "\n",
    "import warnings\n",
    "warnings.filterwarnings('ignore')"
   ]
  },
  {
   "cell_type": "code",
   "execution_count": 35,
   "metadata": {
    "collapsed": true
   },
   "outputs": [],
   "source": [
    "df = pd.read_csv(\"train.csv\")"
   ]
  },
  {
   "cell_type": "code",
   "execution_count": 36,
   "metadata": {},
   "outputs": [
    {
     "data": {
      "text/plain": [
       "7"
      ]
     },
     "execution_count": 36,
     "metadata": {},
     "output_type": "execute_result"
    }
   ],
   "source": [
    "len(set(df.SibSp))"
   ]
  },
  {
   "cell_type": "code",
   "execution_count": 37,
   "metadata": {},
   "outputs": [
    {
     "data": {
      "text/html": [
       "<div>\n",
       "<style>\n",
       "    .dataframe thead tr:only-child th {\n",
       "        text-align: right;\n",
       "    }\n",
       "\n",
       "    .dataframe thead th {\n",
       "        text-align: left;\n",
       "    }\n",
       "\n",
       "    .dataframe tbody tr th {\n",
       "        vertical-align: top;\n",
       "    }\n",
       "</style>\n",
       "<table border=\"1\" class=\"dataframe\">\n",
       "  <thead>\n",
       "    <tr style=\"text-align: right;\">\n",
       "      <th></th>\n",
       "      <th>Missing Ratio</th>\n",
       "    </tr>\n",
       "  </thead>\n",
       "  <tbody>\n",
       "    <tr>\n",
       "      <th>Cabin</th>\n",
       "      <td>77.104377</td>\n",
       "    </tr>\n",
       "    <tr>\n",
       "      <th>Age</th>\n",
       "      <td>19.865320</td>\n",
       "    </tr>\n",
       "    <tr>\n",
       "      <th>Embarked</th>\n",
       "      <td>0.224467</td>\n",
       "    </tr>\n",
       "  </tbody>\n",
       "</table>\n",
       "</div>"
      ],
      "text/plain": [
       "          Missing Ratio\n",
       "Cabin         77.104377\n",
       "Age           19.865320\n",
       "Embarked       0.224467"
      ]
     },
     "execution_count": 37,
     "metadata": {},
     "output_type": "execute_result"
    }
   ],
   "source": [
    "df_na = (df.isnull().sum()/len(df)) * 100\n",
    "df_na = df_na.drop(df_na[df_na==0].index).sort_values(ascending = False)\n",
    "missing_data = pd.DataFrame({'Missing Ratio' : df_na})\n",
    "missing_data.head(3)"
   ]
  },
  {
   "cell_type": "code",
   "execution_count": 38,
   "metadata": {
    "collapsed": true
   },
   "outputs": [],
   "source": [
    "df.drop(df_na[df_na>20].index, axis = 1, inplace = True)"
   ]
  },
  {
   "cell_type": "code",
   "execution_count": 39,
   "metadata": {
    "collapsed": true
   },
   "outputs": [],
   "source": [
    "## drop those rows which contains missing values\n",
    "df.dropna(how='any', inplace = True)"
   ]
  },
  {
   "cell_type": "code",
   "execution_count": 40,
   "metadata": {},
   "outputs": [],
   "source": [
    "df = pd.concat([pd.get_dummies(df[['Pclass', 'Sex','SibSp','Embarked']]), df[['Age', 'Fare','Survived']]], axis=1)"
   ]
  },
  {
   "cell_type": "code",
   "execution_count": 41,
   "metadata": {},
   "outputs": [
    {
     "data": {
      "text/plain": [
       "(712, 10)"
      ]
     },
     "execution_count": 41,
     "metadata": {},
     "output_type": "execute_result"
    }
   ],
   "source": [
    "df.shape"
   ]
  },
  {
   "cell_type": "code",
   "execution_count": 43,
   "metadata": {},
   "outputs": [],
   "source": [
    "X = df.drop(['Survived'], axis = 1)\n",
    "y = df['Survived']\n",
    "## split data\n",
    "X_train, X_test, y_train, y_test = train_test_split(X, y, test_size = 0.2, random_state = 42)\n",
    "## cross validate model with k-fold\n",
    "kfold = StratifiedKFold(n_splits = 5)"
   ]
  },
  {
   "cell_type": "code",
   "execution_count": 44,
   "metadata": {},
   "outputs": [
    {
     "name": "stdout",
     "output_type": "stream",
     "text": [
      "Fitting 5 folds for each of 1 candidates, totalling 5 fits\n"
     ]
    },
    {
     "name": "stderr",
     "output_type": "stream",
     "text": [
      "[Parallel(n_jobs=-1)]: Done   2 out of   5 | elapsed:    2.2s remaining:    3.3s\n",
      "[Parallel(n_jobs=-1)]: Done   5 out of   5 | elapsed:    4.4s finished\n"
     ]
    }
   ],
   "source": [
    "## random forest\n",
    "RF = RandomForestClassifier(random_state=7, n_jobs=-1)\n",
    "\n",
    "## search grid for optimal parameters\n",
    "rf_param_grid = {'n_estimators':[120]}\n",
    "\n",
    "gsRF_replied = GridSearchCV(RF, param_grid = rf_param_grid, cv = kfold,\n",
    "                            n_jobs = -1, verbose = 5, scoring='roc_auc')\n",
    "## Fit\n",
    "gsRF_replied.fit(X_train, y_train)\n",
    "\n",
    "RF_replied_best = gsRF_replied.best_estimator_"
   ]
  },
  {
   "cell_type": "code",
   "execution_count": 47,
   "metadata": {},
   "outputs": [
    {
     "data": {
      "text/plain": [
       "{'mean_fit_time': array([ 0.17789655]),\n",
       " 'mean_score_time': array([ 0.10529895]),\n",
       " 'mean_test_score': array([ 0.83925576]),\n",
       " 'mean_train_score': array([ 0.99966699]),\n",
       " 'param_n_estimators': masked_array(data = [120],\n",
       "              mask = [False],\n",
       "        fill_value = ?),\n",
       " 'params': [{'n_estimators': 120}],\n",
       " 'rank_test_score': array([1]),\n",
       " 'split0_test_score': array([ 0.80869565]),\n",
       " 'split0_train_score': array([ 0.99988889]),\n",
       " 'split1_test_score': array([ 0.80096618]),\n",
       " 'split1_train_score': array([ 0.99986869]),\n",
       " 'split2_test_score': array([ 0.85990338]),\n",
       " 'split2_train_score': array([ 0.99954545]),\n",
       " 'split3_test_score': array([ 0.87745572]),\n",
       " 'split3_train_score': array([ 0.99947475]),\n",
       " 'split4_test_score': array([ 0.84934641]),\n",
       " 'split4_train_score': array([ 0.99955717]),\n",
       " 'std_fit_time': array([ 0.00470099]),\n",
       " 'std_score_time': array([ 0.00045318]),\n",
       " 'std_test_score': array([ 0.02964527]),\n",
       " 'std_train_score': array([ 0.00017533])}"
      ]
     },
     "execution_count": 47,
     "metadata": {},
     "output_type": "execute_result"
    }
   ],
   "source": [
    "gsRF_replied.cv_results_ ## looks like overfitting issue"
   ]
  },
  {
   "cell_type": "code",
   "execution_count": 45,
   "metadata": {},
   "outputs": [
    {
     "data": {
      "text/plain": [
       "array([[341,   3],\n",
       "       [  5, 220]], dtype=int64)"
      ]
     },
     "execution_count": 45,
     "metadata": {},
     "output_type": "execute_result"
    }
   ],
   "source": [
    "confusion_matrix(y_train, RF_replied_best.predict(X_train))"
   ]
  },
  {
   "cell_type": "code",
   "execution_count": 46,
   "metadata": {},
   "outputs": [
    {
     "data": {
      "text/plain": [
       "array([[67, 13],\n",
       "       [18, 45]], dtype=int64)"
      ]
     },
     "execution_count": 46,
     "metadata": {},
     "output_type": "execute_result"
    }
   ],
   "source": [
    "confusion_matrix(y_test, RF_replied_best.predict(X_test))"
   ]
  },
  {
   "cell_type": "code",
   "execution_count": 50,
   "metadata": {
    "collapsed": true
   },
   "outputs": [],
   "source": [
    "pred_prob_rf = RF_replied_best.predict_proba(X_test)[:,1]"
   ]
  },
  {
   "cell_type": "code",
   "execution_count": 51,
   "metadata": {},
   "outputs": [
    {
     "data": {
      "text/plain": [
       "0.84682539682539681"
      ]
     },
     "execution_count": 51,
     "metadata": {},
     "output_type": "execute_result"
    }
   ],
   "source": [
    "roc_auc_score(y_test, pred_prob_rf)"
   ]
  },
  {
   "cell_type": "code",
   "execution_count": 52,
   "metadata": {
    "collapsed": true
   },
   "outputs": [],
   "source": [
    "# get roc curve\n",
    "fpr, tpr, threshold = metrics.roc_curve(y_test, pred_prob_rf)\n",
    "roc_auc = metrics.auc(fpr,tpr)"
   ]
  },
  {
   "cell_type": "code",
   "execution_count": 53,
   "metadata": {
    "scrolled": true
   },
   "outputs": [
    {
     "data": {
      "image/png": "[encoded data removed]",
      "text/plain": [
       "<matplotlib.figure.Figure at 0x2c49923fd30>"
      ]
     },
     "metadata": {},
     "output_type": "display_data"
    }
   ],
   "source": [
    "plt.title('Receiver Operating Characteristic')\n",
    "plt.plot(fpr, tpr, 'b', label = 'AUC = %0.2f' % roc_auc)\n",
    "plt.legend(loc = 'lower right')\n",
    "plt.plot([0,1],[0,1],'r--')\n",
    "plt.xlim([0,1])\n",
    "plt.ylim([0,1])\n",
    "plt.ylabel('True Positive Rate')\n",
    "plt.xlabel('False Positive Rate')\n",
    "plt.show()"
   ]
  },
  {
   "cell_type": "code",
   "execution_count": 55,
   "metadata": {},
   "outputs": [
    {
     "data": {
      "text/plain": [
       "RandomForestClassifier(bootstrap=True, class_weight=None, criterion='gini',\n",
       "            max_depth=None, max_features='auto', max_leaf_nodes=None,\n",
       "            min_impurity_decrease=0.0, min_impurity_split=None,\n",
       "            min_samples_leaf=1, min_samples_split=2,\n",
       "            min_weight_fraction_leaf=0.0, n_estimators=120, n_jobs=-1,\n",
       "            oob_score=False, random_state=None, verbose=0,\n",
       "            warm_start=False)"
      ]
     },
     "execution_count": 55,
     "metadata": {},
     "output_type": "execute_result"
    }
   ],
   "source": [
    "RF = RandomForestClassifier(n_jobs = -1, n_estimators = 120)\n",
    "RF.fit(X_train, y_train)"
   ]
  },
  {
   "cell_type": "code",
   "execution_count": 60,
   "metadata": {},
   "outputs": [
    {
     "data": {
      "image/png": "[encoded data removed]",
      "text/plain": [
       "<matplotlib.figure.Figure at 0x2c495c82588>"
      ]
     },
     "metadata": {},
     "output_type": "display_data"
    }
   ],
   "source": [
    "feature_importance = pd.DataFrame({'Importance':RF.feature_importances_}, \n",
    "                                  index=X_train.columns).sort_values(by=['Importance'],ascending=False).head(10).sort_values(by=['Importance'],ascending=True)\n",
    "\n",
    "plt.barh(range(len(feature_importance)), feature_importance.Importance, align = 'center')\n",
    "plt.yticks(range(len(feature_importance)), feature_importance.index)\n",
    "\n",
    "plt.xlabel('Importance of features')\n",
    "plt.ylabel('Features')\n",
    "plt.title('Importance f each feature')\n",
    "plt.show()"
   ]
  },
  {
   "cell_type": "code",
   "execution_count": 64,
   "metadata": {},
   "outputs": [
    {
     "name": "stdout",
     "output_type": "stream",
     "text": [
      "with 4 features, the roc score is 0.6055555555555555.\n",
      "with 5 features, the roc score is 0.6717261904761904.\n",
      "with 6 features, the roc score is 0.7785714285714287.\n",
      "with 7 features, the roc score is 0.7831349206349206.\n",
      "with 8 features, the roc score is 0.7952380952380953.\n",
      "with 9 features, the roc score is 0.8450396825396825.\n"
     ]
    }
   ],
   "source": [
    "## select number of features\n",
    "consecutive_list = []\n",
    "calc = 4\n",
    "\n",
    "while int(calc) < 10:\n",
    "    consecutive_list.append(calc)\n",
    "    calc = int(calc) + 1\n",
    "    \n",
    "for i in consecutive_list:\n",
    "    X_train_loop = X_train[feature_importance.iloc[np.arange(i)].index]\n",
    "    X_test_loop = X_test[feature_importance.iloc[np.arange(i)].index]\n",
    "    RF_loop = RandomForestClassifier(n_jobs = -1, random_state=24, n_estimators=120)\n",
    "    RF_loop.fit(X_train_loop, y_train)\n",
    "    print(\"with {} features, the roc score is {}.\".format(i,roc_auc_score(y_test, RF_loop.predict_proba(X_test_loop)[:,1])))"
   ]
  },
  {
   "cell_type": "markdown",
   "metadata": {},
   "source": [
    "### check number of parameters and cut-off point based on F1 score"
   ]
  },
  {
   "cell_type": "code",
   "execution_count": 66,
   "metadata": {},
   "outputs": [
    {
     "name": "stderr",
     "output_type": "stream",
     "text": [
      "[Parallel(n_jobs=-1)]: Done   6 out of  10 | elapsed:    0.0s remaining:    0.0s\n",
      "[Parallel(n_jobs=-1)]: Done  10 out of  10 | elapsed:    0.0s finished\n",
      "[Parallel(n_jobs=8)]: Done   6 out of  10 | elapsed:    0.0s remaining:    0.0s\n",
      "[Parallel(n_jobs=8)]: Done  10 out of  10 | elapsed:    0.0s finished\n",
      "[Parallel(n_jobs=-1)]: Done   6 out of  10 | elapsed:    0.0s remaining:    0.0s\n",
      "[Parallel(n_jobs=-1)]: Done  10 out of  10 | elapsed:    0.0s finished\n",
      "[Parallel(n_jobs=8)]: Done   6 out of  10 | elapsed:    0.0s remaining:    0.0s\n",
      "[Parallel(n_jobs=8)]: Done  10 out of  10 | elapsed:    0.0s finished\n",
      "[Parallel(n_jobs=-1)]: Done   6 out of  10 | elapsed:    0.0s remaining:    0.0s\n",
      "[Parallel(n_jobs=-1)]: Done  10 out of  10 | elapsed:    0.0s finished\n",
      "[Parallel(n_jobs=8)]: Done   6 out of  10 | elapsed:    0.0s remaining:    0.0s\n",
      "[Parallel(n_jobs=8)]: Done  10 out of  10 | elapsed:    0.0s finished\n",
      "[Parallel(n_jobs=-1)]: Done  20 out of  20 | elapsed:    0.0s finished\n",
      "[Parallel(n_jobs=8)]: Done  20 out of  20 | elapsed:    0.0s finished\n",
      "[Parallel(n_jobs=-1)]: Done  20 out of  20 | elapsed:    0.0s finished\n",
      "[Parallel(n_jobs=8)]: Done  20 out of  20 | elapsed:    0.0s finished\n",
      "[Parallel(n_jobs=-1)]: Done  20 out of  20 | elapsed:    0.0s finished\n",
      "[Parallel(n_jobs=8)]: Done  20 out of  20 | elapsed:    0.0s finished\n",
      "[Parallel(n_jobs=-1)]: Done  30 out of  30 | elapsed:    0.0s finished\n",
      "[Parallel(n_jobs=8)]: Done  30 out of  30 | elapsed:    0.0s finished\n",
      "[Parallel(n_jobs=-1)]: Done  30 out of  30 | elapsed:    0.0s finished\n",
      "[Parallel(n_jobs=8)]: Done  30 out of  30 | elapsed:    0.0s finished\n",
      "[Parallel(n_jobs=-1)]: Done  30 out of  30 | elapsed:    0.0s finished\n",
      "[Parallel(n_jobs=8)]: Done  30 out of  30 | elapsed:    0.0s finished\n",
      "[Parallel(n_jobs=-1)]: Done  40 out of  40 | elapsed:    0.0s finished\n",
      "[Parallel(n_jobs=8)]: Done  40 out of  40 | elapsed:    0.0s finished\n",
      "[Parallel(n_jobs=-1)]: Done  40 out of  40 | elapsed:    0.0s finished\n",
      "[Parallel(n_jobs=8)]: Done  40 out of  40 | elapsed:    0.0s finished\n",
      "[Parallel(n_jobs=-1)]: Done  40 out of  40 | elapsed:    0.0s finished\n",
      "[Parallel(n_jobs=8)]: Done  40 out of  40 | elapsed:    0.0s finished\n",
      "[Parallel(n_jobs=-1)]: Done  34 tasks      | elapsed:    0.0s\n",
      "[Parallel(n_jobs=-1)]: Done  50 out of  50 | elapsed:    0.0s finished\n",
      "[Parallel(n_jobs=8)]: Done  34 tasks      | elapsed:    0.0s\n",
      "[Parallel(n_jobs=8)]: Done  50 out of  50 | elapsed:    0.0s finished\n",
      "[Parallel(n_jobs=-1)]: Done  34 tasks      | elapsed:    0.0s\n",
      "[Parallel(n_jobs=-1)]: Done  50 out of  50 | elapsed:    0.0s finished\n",
      "[Parallel(n_jobs=8)]: Done  34 tasks      | elapsed:    0.0s\n",
      "[Parallel(n_jobs=8)]: Done  50 out of  50 | elapsed:    0.0s finished\n",
      "[Parallel(n_jobs=-1)]: Done  34 tasks      | elapsed:    0.0s\n",
      "[Parallel(n_jobs=-1)]: Done  50 out of  50 | elapsed:    0.0s finished\n",
      "[Parallel(n_jobs=8)]: Done  34 tasks      | elapsed:    0.0s\n",
      "[Parallel(n_jobs=8)]: Done  50 out of  50 | elapsed:    0.0s finished\n"
     ]
    }
   ],
   "source": [
    "scores = []\n",
    "\n",
    "select_n_estimators = np.arange(10,51,10).astype('int')\n",
    "\n",
    "for val in select_n_estimators:\n",
    "    clf = RandomForestClassifier(n_estimators=val, n_jobs = -1, verbose = 1)\n",
    "    validated = cross_val_score(clf, X_train, y_train, cv = 3, scoring='f1')\n",
    "    scores.append(validated)"
   ]
  },
  {
   "cell_type": "code",
   "execution_count": 67,
   "metadata": {
    "collapsed": true
   },
   "outputs": [],
   "source": [
    "scores_table = pd.DataFrame(np.transpose(scores),\n",
    "                            columns = select_n_estimators.astype('str'))"
   ]
  },
  {
   "cell_type": "code",
   "execution_count": 68,
   "metadata": {
    "scrolled": true
   },
   "outputs": [
    {
     "data": {
      "image/png": "[encoded data removed]",
      "text/plain": [
       "<matplotlib.figure.Figure at 0x2c49925ad30>"
      ]
     },
     "metadata": {},
     "output_type": "display_data"
    }
   ],
   "source": [
    "scores_table.boxplot()\n",
    "plt.xlabel('Number of trees')\n",
    "plt.ylabel('F1 score')\n",
    "plt.title('F1 score as a function of the nmber of trees')\n",
    "plt.show()"
   ]
  },
  {
   "cell_type": "code",
   "execution_count": 114,
   "metadata": {},
   "outputs": [
    {
     "name": "stderr",
     "output_type": "stream",
     "text": [
      "[Parallel(n_jobs=-1)]: Done  40 out of  40 | elapsed:    0.0s finished\n",
      "[Parallel(n_jobs=8)]: Done  40 out of  40 | elapsed:    0.0s finished\n",
      "[Parallel(n_jobs=-1)]: Done  40 out of  40 | elapsed:    0.0s finished\n",
      "[Parallel(n_jobs=8)]: Done  40 out of  40 | elapsed:    0.0s finished\n",
      "[Parallel(n_jobs=-1)]: Done  40 out of  40 | elapsed:    0.0s finished\n",
      "[Parallel(n_jobs=8)]: Done  40 out of  40 | elapsed:    0.0s finished\n",
      "[Parallel(n_jobs=-1)]: Done  40 out of  40 | elapsed:    0.0s finished\n",
      "[Parallel(n_jobs=8)]: Done  40 out of  40 | elapsed:    0.0s finished\n",
      "[Parallel(n_jobs=-1)]: Done  40 out of  40 | elapsed:    0.0s finished\n",
      "[Parallel(n_jobs=8)]: Done  40 out of  40 | elapsed:    0.0s finished\n",
      "[Parallel(n_jobs=-1)]: Done  40 out of  40 | elapsed:    0.0s finished\n",
      "[Parallel(n_jobs=8)]: Done  40 out of  40 | elapsed:    0.0s finished\n",
      "[Parallel(n_jobs=-1)]: Done  40 out of  40 | elapsed:    0.0s finished\n",
      "[Parallel(n_jobs=8)]: Done  40 out of  40 | elapsed:    0.0s finished\n",
      "[Parallel(n_jobs=-1)]: Done  40 out of  40 | elapsed:    0.0s finished\n",
      "[Parallel(n_jobs=8)]: Done  40 out of  40 | elapsed:    0.0s finished\n",
      "[Parallel(n_jobs=-1)]: Done  40 out of  40 | elapsed:    0.0s finished\n",
      "[Parallel(n_jobs=8)]: Done  40 out of  40 | elapsed:    0.0s finished\n",
      "[Parallel(n_jobs=-1)]: Done  40 out of  40 | elapsed:    0.0s finished\n",
      "[Parallel(n_jobs=8)]: Done  40 out of  40 | elapsed:    0.0s finished\n",
      "[Parallel(n_jobs=-1)]: Done  40 out of  40 | elapsed:    0.0s finished\n",
      "[Parallel(n_jobs=8)]: Done  40 out of  40 | elapsed:    0.0s finished\n",
      "[Parallel(n_jobs=-1)]: Done  40 out of  40 | elapsed:    0.0s finished\n",
      "[Parallel(n_jobs=8)]: Done  40 out of  40 | elapsed:    0.0s finished\n",
      "[Parallel(n_jobs=-1)]: Done  40 out of  40 | elapsed:    0.0s finished\n",
      "[Parallel(n_jobs=8)]: Done  40 out of  40 | elapsed:    0.0s finished\n",
      "[Parallel(n_jobs=-1)]: Done  40 out of  40 | elapsed:    0.0s finished\n",
      "[Parallel(n_jobs=8)]: Done  40 out of  40 | elapsed:    0.0s finished\n",
      "[Parallel(n_jobs=-1)]: Done  40 out of  40 | elapsed:    0.0s finished\n",
      "[Parallel(n_jobs=8)]: Done  40 out of  40 | elapsed:    0.0s finished\n",
      "[Parallel(n_jobs=-1)]: Done  40 out of  40 | elapsed:    0.0s finished\n",
      "[Parallel(n_jobs=8)]: Done  40 out of  40 | elapsed:    0.0s finished\n",
      "[Parallel(n_jobs=-1)]: Done  40 out of  40 | elapsed:    0.0s finished\n",
      "[Parallel(n_jobs=8)]: Done  40 out of  40 | elapsed:    0.0s finished\n",
      "[Parallel(n_jobs=-1)]: Done  40 out of  40 | elapsed:    0.0s finished\n",
      "[Parallel(n_jobs=8)]: Done  40 out of  40 | elapsed:    0.0s finished\n",
      "[Parallel(n_jobs=-1)]: Done  40 out of  40 | elapsed:    0.0s finished\n",
      "[Parallel(n_jobs=8)]: Done  40 out of  40 | elapsed:    0.0s finished\n",
      "[Parallel(n_jobs=-1)]: Done  40 out of  40 | elapsed:    0.0s finished\n",
      "[Parallel(n_jobs=8)]: Done  40 out of  40 | elapsed:    0.0s finished\n",
      "[Parallel(n_jobs=-1)]: Done  40 out of  40 | elapsed:    0.0s finished\n",
      "[Parallel(n_jobs=8)]: Done  40 out of  40 | elapsed:    0.0s finished\n",
      "[Parallel(n_jobs=-1)]: Done  40 out of  40 | elapsed:    0.0s finished\n",
      "[Parallel(n_jobs=8)]: Done  40 out of  40 | elapsed:    0.0s finished\n",
      "[Parallel(n_jobs=-1)]: Done  40 out of  40 | elapsed:    0.0s finished\n",
      "[Parallel(n_jobs=8)]: Done  40 out of  40 | elapsed:    0.0s finished\n",
      "[Parallel(n_jobs=-1)]: Done  40 out of  40 | elapsed:    0.0s finished\n",
      "[Parallel(n_jobs=8)]: Done  40 out of  40 | elapsed:    0.0s finished\n",
      "[Parallel(n_jobs=-1)]: Done  40 out of  40 | elapsed:    0.0s finished\n",
      "[Parallel(n_jobs=8)]: Done  40 out of  40 | elapsed:    0.0s finished\n",
      "[Parallel(n_jobs=-1)]: Done  40 out of  40 | elapsed:    0.0s finished\n",
      "[Parallel(n_jobs=8)]: Done  40 out of  40 | elapsed:    0.0s finished\n",
      "[Parallel(n_jobs=-1)]: Done  40 out of  40 | elapsed:    0.0s finished\n",
      "[Parallel(n_jobs=8)]: Done  40 out of  40 | elapsed:    0.0s finished\n",
      "[Parallel(n_jobs=-1)]: Done  40 out of  40 | elapsed:    0.0s finished\n",
      "[Parallel(n_jobs=8)]: Done  40 out of  40 | elapsed:    0.0s finished\n",
      "[Parallel(n_jobs=-1)]: Done  40 out of  40 | elapsed:    0.0s finished\n",
      "[Parallel(n_jobs=8)]: Done  40 out of  40 | elapsed:    0.0s finished\n",
      "[Parallel(n_jobs=-1)]: Done  40 out of  40 | elapsed:    0.0s finished\n",
      "[Parallel(n_jobs=8)]: Done  40 out of  40 | elapsed:    0.0s finished\n",
      "[Parallel(n_jobs=-1)]: Done  40 out of  40 | elapsed:    0.0s finished\n",
      "[Parallel(n_jobs=8)]: Done  40 out of  40 | elapsed:    0.0s finished\n",
      "[Parallel(n_jobs=-1)]: Done  40 out of  40 | elapsed:    0.0s finished\n",
      "[Parallel(n_jobs=8)]: Done  40 out of  40 | elapsed:    0.0s finished\n",
      "[Parallel(n_jobs=-1)]: Done  40 out of  40 | elapsed:    0.0s finished\n",
      "[Parallel(n_jobs=8)]: Done  40 out of  40 | elapsed:    0.0s finished\n",
      "[Parallel(n_jobs=-1)]: Done  40 out of  40 | elapsed:    0.0s finished\n",
      "[Parallel(n_jobs=8)]: Done  40 out of  40 | elapsed:    0.0s finished\n",
      "[Parallel(n_jobs=-1)]: Done  40 out of  40 | elapsed:    0.0s finished\n",
      "[Parallel(n_jobs=8)]: Done  40 out of  40 | elapsed:    0.0s finished\n",
      "[Parallel(n_jobs=-1)]: Done  40 out of  40 | elapsed:    0.0s finished\n",
      "[Parallel(n_jobs=8)]: Done  40 out of  40 | elapsed:    0.0s finished\n",
      "[Parallel(n_jobs=-1)]: Done  40 out of  40 | elapsed:    0.0s finished\n",
      "[Parallel(n_jobs=8)]: Done  40 out of  40 | elapsed:    0.0s finished\n",
      "[Parallel(n_jobs=-1)]: Done  40 out of  40 | elapsed:    0.0s finished\n",
      "[Parallel(n_jobs=8)]: Done  40 out of  40 | elapsed:    0.0s finished\n",
      "[Parallel(n_jobs=-1)]: Done  40 out of  40 | elapsed:    0.0s finished\n",
      "[Parallel(n_jobs=8)]: Done  40 out of  40 | elapsed:    0.0s finished\n",
      "[Parallel(n_jobs=-1)]: Done  40 out of  40 | elapsed:    0.0s finished\n",
      "[Parallel(n_jobs=8)]: Done  40 out of  40 | elapsed:    0.0s finished\n",
      "[Parallel(n_jobs=-1)]: Done  40 out of  40 | elapsed:    0.0s finished\n",
      "[Parallel(n_jobs=8)]: Done  40 out of  40 | elapsed:    0.0s finished\n",
      "[Parallel(n_jobs=-1)]: Done  40 out of  40 | elapsed:    0.0s finished\n",
      "[Parallel(n_jobs=8)]: Done  40 out of  40 | elapsed:    0.0s finished\n",
      "[Parallel(n_jobs=-1)]: Done  40 out of  40 | elapsed:    0.0s finished\n",
      "[Parallel(n_jobs=8)]: Done  40 out of  40 | elapsed:    0.0s finished\n",
      "[Parallel(n_jobs=-1)]: Done  40 out of  40 | elapsed:    0.0s finished\n",
      "[Parallel(n_jobs=8)]: Done  40 out of  40 | elapsed:    0.0s finished\n",
      "[Parallel(n_jobs=-1)]: Done  40 out of  40 | elapsed:    0.0s finished\n",
      "[Parallel(n_jobs=8)]: Done  40 out of  40 | elapsed:    0.0s finished\n"
     ]
    }
   ],
   "source": [
    "## find cutoff point that best for f1 score\n",
    "def cutoff_predict(clf, X_train, cutoff):\n",
    "    return(clf.predict_proba(X_train)[:,1] > cutoff).astype(int)\n",
    "\n",
    "scores = []\n",
    "\n",
    "def custom_f1(cutoff):\n",
    "    def f1_cutoff(clf,X_train,y_train):\n",
    "        ypred = cutoff_predict(clf, X_train, cutoff)\n",
    "        return f1_score(y_train, ypred)\n",
    "    return f1_cutoff\n",
    "\n",
    "selected_f1_scores = 0.1 * np.round(np.arange(1,10,1),1)\n",
    "\n",
    "for cutoff in selected_f1_scores:\n",
    "    clf = RandomForestClassifier(n_estimators = 40, n_jobs = -1, verbose = 1)\n",
    "    validated = cross_val_score(clf, X_train, y_train, cv = 5, scoring = custom_f1(cutoff))\n",
    "    scores.append(validated)"
   ]
  },
  {
   "cell_type": "code",
   "execution_count": 115,
   "metadata": {
    "collapsed": true
   },
   "outputs": [],
   "source": [
    "scores_cutoff = pd.DataFrame(np.transpose(scores),\n",
    "                             columns = np.round(selected_f1_scores,2).astype('str')) # round up error with np.arange"
   ]
  },
  {
   "cell_type": "code",
   "execution_count": 117,
   "metadata": {},
   "outputs": [
    {
     "data": {
      "image/png": "[encoded data removed]",
      "text/plain": [
       "<matplotlib.figure.Figure at 0x2c498b0a588>"
      ]
     },
     "metadata": {},
     "output_type": "display_data"
    }
   ],
   "source": [
    "plt.figure(figsize=(8,6))\n",
    "scores_cutoff.boxplot()\n",
    "plt.title('F1 scores for each tree')\n",
    "plt.xlabel('each cut off value')\n",
    "plt.ylabel('custom F score')\n",
    "plt.show()"
   ]
  },
  {
   "cell_type": "code",
   "execution_count": 120,
   "metadata": {},
   "outputs": [
    {
     "name": "stdout",
     "output_type": "stream",
     "text": [
      "the f1 score is 0.7188 with cutoff point at 0.40\n",
      "the f1 score is 0.7244 with cutoff point at 0.41\n",
      "the f1 score is 0.7302 with cutoff point at 0.42\n",
      "the f1 score is 0.7200 with cutoff point at 0.43\n",
      "the f1 score is 0.7258 with cutoff point at 0.44\n",
      "the f1 score is 0.7317 with cutoff point at 0.45\n",
      "the f1 score is 0.7395 with cutoff point at 0.46\n",
      "the f1 score is 0.7395 with cutoff point at 0.47\n",
      "the f1 score is 0.7395 with cutoff point at 0.48\n",
      "the f1 score is 0.7288 with cutoff point at 0.49\n"
     ]
    }
   ],
   "source": [
    "for i in np.arange(0.4,0.5,0.01):\n",
    "    print(\"the f1 score is {:0.4f} with cutoff point at {:0.2f}\".format(f1_score(y_test,cutoff_predict(RF,X_test,i)),i))"
   ]
  },
  {
   "cell_type": "code",
   "execution_count": null,
   "metadata": {
    "collapsed": true
   },
   "outputs": [],
   "source": []
  }
 ],
 "metadata": {
  "kernelspec": {
   "display_name": "Python 3",
   "language": "python",
   "name": "python3"
  },
  "language_info": {
   "codemirror_mode": {
    "name": "ipython",
    "version": 3
   },
   "file_extension": ".py",
   "mimetype": "text/x-python",
   "name": "python",
   "nbconvert_exporter": "python",
   "pygments_lexer": "ipython3",
   "version": "3.6.5"
  }
 },
 "nbformat": 4,
 "nbformat_minor": 2
}
