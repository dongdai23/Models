{
 "cells": [
  {
   "attachments": {},
   "cell_type": "markdown",
   "metadata": {},
   "source": [
    "- This is a POC to show the capability of creating a NLP model for classificaiton\n",
    "- This note book including fine-tuning the language model and fine-tuning a classifier"
   ]
  },
  {
   "cell_type": "code",
   "execution_count": 1,
   "metadata": {},
   "outputs": [
    {
     "name": "stderr",
     "output_type": "stream",
     "text": [
      "c:\\Users\\dong\\anaconda3\\lib\\site-packages\\pandas\\core\\computation\\expressions.py:20: UserWarning: Pandas requires version '2.7.3' or newer of 'numexpr' (version '2.7.1' currently installed).\n",
      "  from pandas.core.computation.check import NUMEXPR_INSTALLED\n"
     ]
    }
   ],
   "source": [
    "import os\n",
    "import numpy as np\n",
    "import pandas as pd\n",
    "from sklearn.model_selection import train_test_split\n",
    "from sklearn.metrics import accuracy_score, f1_score\n",
    "import matplotlib.pyplot as plt\n",
    "\n",
    "import torch\n",
    "from datasets import Dataset, DatasetDict\n",
    "from transformers import (\n",
    "    TrainingArguments, \n",
    "    Trainer,\n",
    "    AutoTokenizer, \n",
    "    AutoConfig,\n",
    "    AutoModelForSequenceClassification, \n",
    "    AutoModelForMaskedLM,\n",
    "    DataCollatorForLanguageModeling, \n",
    "    set_seed\n",
    ")"
   ]
  },
  {
   "cell_type": "code",
   "execution_count": 2,
   "metadata": {},
   "outputs": [],
   "source": [
    "# config file, including the parameters that are used in the notebook\n",
    "model_config = {\n",
    "    'max_length': 256,\n",
    "    'model_ckpt': \"bert-base-uncased\",\n",
    "    'language_model_output': './results/tuned_language_256/',\n",
    "    'classifier_model_output': './results/tuned_classifier_256/',\n",
    "    'batch_size': 16,\n",
    "    'language_model_epochs': 16,\n",
    "    'classifier_model_epochs': 3,\n",
    "}\n",
    "\n",
    "device = torch.device(\"cuda\" if torch.cuda.is_available() else \"cpu\")"
   ]
  },
  {
   "cell_type": "code",
   "execution_count": 3,
   "metadata": {},
   "outputs": [],
   "source": [
    "# Read Data\n",
    "DATA_DIR = os.path.abspath('') + '/data'\n",
    "df_train = pd.read_csv(DATA_DIR + '/train.tsv', sep = '\\t')\n",
    "df_val = pd.read_csv(DATA_DIR + '/val.tsv', sep = '\\t')\n",
    "df_test = pd.read_csv(DATA_DIR + '/test.tsv', sep = '\\t')"
   ]
  },
  {
   "cell_type": "code",
   "execution_count": 4,
   "metadata": {},
   "outputs": [
    {
     "name": "stdout",
     "output_type": "stream",
     "text": [
      "training dataset -- 35000 \n",
      "evaluation dataset -- 5000\n",
      "test dataset -- 10000\n"
     ]
    }
   ],
   "source": [
    "# take a look at the datasets\n",
    "print('training dataset -- {} \\nevaluation dataset -- {}\\ntest dataset -- {}'.format(len(df_train), len(df_val), len(df_test)))"
   ]
  },
  {
   "cell_type": "code",
   "execution_count": 5,
   "metadata": {},
   "outputs": [
    {
     "data": {
      "text/plain": [
       "Index(['Product', 'Consumer complaint narrative'], dtype='object')"
      ]
     },
     "execution_count": 5,
     "metadata": {},
     "output_type": "execute_result"
    }
   ],
   "source": [
    "# data column names\n",
    "# 'Product': the label column, this is a single-label problem;\n",
    "# 'Consumer complaint narrative': string of text, which is used to predict 'Product'\n",
    "df_train.columns"
   ]
  },
  {
   "cell_type": "code",
   "execution_count": 6,
   "metadata": {},
   "outputs": [
    {
     "data": {
      "text/plain": [
       "Credit reporting, credit repair services, or other personal consumer reports    14789\n",
       "Debt collection                                                                  7883\n",
       "Mortgage                                                                         4261\n",
       "Credit card or prepaid card                                                      3011\n",
       "Checking or savings account                                                      1813\n",
       "Credit reporting                                                                 1683\n",
       "Student loan                                                                     1560\n",
       "Name: Product, dtype: int64"
      ]
     },
     "execution_count": 6,
     "metadata": {},
     "output_type": "execute_result"
    }
   ],
   "source": [
    "# the counts for different 'Product'\n",
    "df_train['Product'].value_counts()"
   ]
  },
  {
   "cell_type": "code",
   "execution_count": 7,
   "metadata": {},
   "outputs": [],
   "source": [
    "# create a mapping between labels and a integer\n",
    "label2int = {k:v for v, k in enumerate(df_train['Product'].unique().tolist())}"
   ]
  },
  {
   "cell_type": "code",
   "execution_count": 8,
   "metadata": {},
   "outputs": [
    {
     "data": {
      "image/png": "[encoded data removed]",
      "text/plain": [
       "<Figure size 432x288 with 1 Axes>"
      ]
     },
     "metadata": {
      "needs_background": "light"
     },
     "output_type": "display_data"
    }
   ],
   "source": [
    "# a plot to show the distribution of the text length\n",
    "# based on the plot, the text length set to be 256 would be a proper number\n",
    "(df_train['Consumer complaint narrative'].str.split().apply(len)\n",
    " .hist(bins=np.linspace(0, 500, 50), grid=False, edgecolor=\"C0\"))\n",
    "plt.title(\"Words per Consumer complaint\")\n",
    "plt.xlabel(\"Number of words\")\n",
    "plt.ylabel(\"Number of Consumer complaint\")\n",
    "plt.show()"
   ]
  },
  {
   "cell_type": "markdown",
   "metadata": {},
   "source": [
    "## create training sets"
   ]
  },
  {
   "cell_type": "code",
   "execution_count": 10,
   "metadata": {},
   "outputs": [],
   "source": [
    "def create_dataframe(df):\n",
    "    # change column names\n",
    "    df.rename(columns={'Product':'label', 'Consumer complaint narrative':'text'}, inplace=True)\n",
    "    # map the label to the integer\n",
    "    df['label'] = df['label'].replace(label2int)\n",
    "    return df\n",
    "\n",
    "df_train = create_dataframe(df_train)\n",
    "df_val = create_dataframe(df_val)\n",
    "df_test = create_dataframe(df_test)"
   ]
  },
  {
   "cell_type": "code",
   "execution_count": 11,
   "metadata": {},
   "outputs": [],
   "source": [
    "# create datsetdic for transformers model\n",
    "ds = DatasetDict({\n",
    "    \"train\": Dataset.from_pandas(df_train.reset_index(drop=True)),\n",
    "    \"valid\": Dataset.from_pandas(df_val.reset_index(drop=True)),\n",
    "    \"test\": Dataset.from_pandas(df_test.reset_index(drop=True))\n",
    "    })"
   ]
  },
  {
   "attachments": {},
   "cell_type": "markdown",
   "metadata": {},
   "source": [
    "## fine-tuning the language model\n",
    "- using mask language modeling"
   ]
  },
  {
   "cell_type": "code",
   "execution_count": 12,
   "metadata": {},
   "outputs": [
    {
     "data": {
      "application/vnd.jupyter.widget-view+json": {
       "model_id": "611aa6faa47949c1a8be3967e82e8f05",
       "version_major": 2,
       "version_minor": 0
      },
      "text/plain": [
       "  0%|          | 0/35 [00:00<?, ?ba/s]"
      ]
     },
     "metadata": {},
     "output_type": "display_data"
    },
    {
     "data": {
      "application/vnd.jupyter.widget-view+json": {
       "model_id": "b672695ec1a9482eaa306f780e625efd",
       "version_major": 2,
       "version_minor": 0
      },
      "text/plain": [
       "  0%|          | 0/5 [00:00<?, ?ba/s]"
      ]
     },
     "metadata": {},
     "output_type": "display_data"
    },
    {
     "data": {
      "application/vnd.jupyter.widget-view+json": {
       "model_id": "d5220a17ff5e4bb48473986df4134aa0",
       "version_major": 2,
       "version_minor": 0
      },
      "text/plain": [
       "  0%|          | 0/10 [00:00<?, ?ba/s]"
      ]
     },
     "metadata": {},
     "output_type": "display_data"
    }
   ],
   "source": [
    "# load tokenizer\n",
    "tokenizer = AutoTokenizer.from_pretrained(model_config['model_ckpt'])\n",
    "# create dataset for the mask language modeling\n",
    "def tokenize(batch, tokenizer=tokenizer):\n",
    "    return tokenizer(batch[\"text\"], truncation=True,\n",
    "                     max_length=model_config['max_length'], \n",
    "                     return_special_tokens_mask=True)\n",
    "\n",
    "ds_mlm = ds.map(tokenize, batched=True)\n",
    "ds_mlm = ds_mlm.remove_columns([\"label\", \"text\"])"
   ]
  },
  {
   "cell_type": "code",
   "execution_count": 13,
   "metadata": {},
   "outputs": [
    {
     "name": "stderr",
     "output_type": "stream",
     "text": [
      "Some weights of the model checkpoint at bert-base-uncased were not used when initializing BertForMaskedLM: ['cls.seq_relationship.bias', 'cls.seq_relationship.weight']\n",
      "- This IS expected if you are initializing BertForMaskedLM from the checkpoint of a model trained on another task or with another architecture (e.g. initializing a BertForSequenceClassification model from a BertForPreTraining model).\n",
      "- This IS NOT expected if you are initializing BertForMaskedLM from the checkpoint of a model that you expect to be exactly identical (initializing a BertForSequenceClassification model from a BertForSequenceClassification model).\n"
     ]
    },
    {
     "data": {
      "application/vnd.jupyter.widget-view+json": {
       "model_id": "13f81749eb294eaf9ebe949ed0dbf0a8",
       "version_major": 2,
       "version_minor": 0
      },
      "text/plain": [
       "  0%|          | 0/35008 [00:00<?, ?it/s]"
      ]
     },
     "metadata": {},
     "output_type": "display_data"
    },
    {
     "name": "stdout",
     "output_type": "stream",
     "text": [
      "{'loss': 1.6631, 'learning_rate': 4.6875e-05, 'epoch': 1.0}\n"
     ]
    },
    {
     "data": {
      "application/vnd.jupyter.widget-view+json": {
       "model_id": "12136a33bdcf42d6bb1ecf0deb4378b6",
       "version_major": 2,
       "version_minor": 0
      },
      "text/plain": [
       "  0%|          | 0/625 [00:00<?, ?it/s]"
      ]
     },
     "metadata": {},
     "output_type": "display_data"
    },
    {
     "name": "stdout",
     "output_type": "stream",
     "text": [
      "{'eval_loss': 1.4552117586135864, 'eval_runtime': 53.7922, 'eval_samples_per_second': 92.95, 'eval_steps_per_second': 11.619, 'epoch': 1.0}\n",
      "{'loss': 1.4637, 'learning_rate': 4.375e-05, 'epoch': 2.0}\n"
     ]
    },
    {
     "data": {
      "application/vnd.jupyter.widget-view+json": {
       "model_id": "e22ebbc6936c4131ab6f621e87f0cfda",
       "version_major": 2,
       "version_minor": 0
      },
      "text/plain": [
       "  0%|          | 0/625 [00:00<?, ?it/s]"
      ]
     },
     "metadata": {},
     "output_type": "display_data"
    },
    {
     "name": "stdout",
     "output_type": "stream",
     "text": [
      "{'eval_loss': 1.3692389726638794, 'eval_runtime': 38.2986, 'eval_samples_per_second': 130.553, 'eval_steps_per_second': 16.319, 'epoch': 2.0}\n",
      "{'loss': 1.3902, 'learning_rate': 4.0625000000000005e-05, 'epoch': 3.0}\n"
     ]
    },
    {
     "data": {
      "application/vnd.jupyter.widget-view+json": {
       "model_id": "1f0cd4bbe8474a5798d6485510dc901f",
       "version_major": 2,
       "version_minor": 0
      },
      "text/plain": [
       "  0%|          | 0/625 [00:00<?, ?it/s]"
      ]
     },
     "metadata": {},
     "output_type": "display_data"
    },
    {
     "name": "stdout",
     "output_type": "stream",
     "text": [
      "{'eval_loss': 1.3263558149337769, 'eval_runtime': 64.6154, 'eval_samples_per_second': 77.381, 'eval_steps_per_second': 9.673, 'epoch': 3.0}\n",
      "{'loss': 1.3348, 'learning_rate': 3.7500000000000003e-05, 'epoch': 4.0}\n"
     ]
    },
    {
     "data": {
      "application/vnd.jupyter.widget-view+json": {
       "model_id": "68744d0db63841a898dda92e27dff9d8",
       "version_major": 2,
       "version_minor": 0
      },
      "text/plain": [
       "  0%|          | 0/625 [00:00<?, ?it/s]"
      ]
     },
     "metadata": {},
     "output_type": "display_data"
    },
    {
     "name": "stdout",
     "output_type": "stream",
     "text": [
      "{'eval_loss': 1.283903956413269, 'eval_runtime': 39.0307, 'eval_samples_per_second': 128.104, 'eval_steps_per_second': 16.013, 'epoch': 4.0}\n",
      "{'loss': 1.2905, 'learning_rate': 3.4375e-05, 'epoch': 5.0}\n"
     ]
    },
    {
     "data": {
      "application/vnd.jupyter.widget-view+json": {
       "model_id": "e605b598e1af43e69270c830144c6929",
       "version_major": 2,
       "version_minor": 0
      },
      "text/plain": [
       "  0%|          | 0/625 [00:00<?, ?it/s]"
      ]
     },
     "metadata": {},
     "output_type": "display_data"
    },
    {
     "name": "stdout",
     "output_type": "stream",
     "text": [
      "{'eval_loss': 1.2639286518096924, 'eval_runtime': 39.0777, 'eval_samples_per_second': 127.95, 'eval_steps_per_second': 15.994, 'epoch': 5.0}\n",
      "{'loss': 1.253, 'learning_rate': 3.125e-05, 'epoch': 6.0}\n"
     ]
    },
    {
     "data": {
      "application/vnd.jupyter.widget-view+json": {
       "model_id": "e42773c521ce4afab2431617fa04b74a",
       "version_major": 2,
       "version_minor": 0
      },
      "text/plain": [
       "  0%|          | 0/625 [00:00<?, ?it/s]"
      ]
     },
     "metadata": {},
     "output_type": "display_data"
    },
    {
     "name": "stdout",
     "output_type": "stream",
     "text": [
      "{'eval_loss': 1.2378093004226685, 'eval_runtime': 38.9667, 'eval_samples_per_second': 128.315, 'eval_steps_per_second': 16.039, 'epoch': 6.0}\n",
      "{'loss': 1.2255, 'learning_rate': 2.8125000000000003e-05, 'epoch': 7.0}\n"
     ]
    },
    {
     "data": {
      "application/vnd.jupyter.widget-view+json": {
       "model_id": "332892ce0c2f4bd88e16b87e8e736abd",
       "version_major": 2,
       "version_minor": 0
      },
      "text/plain": [
       "  0%|          | 0/625 [00:00<?, ?it/s]"
      ]
     },
     "metadata": {},
     "output_type": "display_data"
    },
    {
     "name": "stdout",
     "output_type": "stream",
     "text": [
      "{'eval_loss': 1.2237281799316406, 'eval_runtime': 39.0667, 'eval_samples_per_second': 127.986, 'eval_steps_per_second': 15.998, 'epoch': 7.0}\n",
      "{'loss': 1.1946, 'learning_rate': 2.5e-05, 'epoch': 8.0}\n"
     ]
    },
    {
     "data": {
      "application/vnd.jupyter.widget-view+json": {
       "model_id": "9c4ac4ecb0de4aae9800ab92ba0f19f4",
       "version_major": 2,
       "version_minor": 0
      },
      "text/plain": [
       "  0%|          | 0/625 [00:00<?, ?it/s]"
      ]
     },
     "metadata": {},
     "output_type": "display_data"
    },
    {
     "name": "stdout",
     "output_type": "stream",
     "text": [
      "{'eval_loss': 1.2069836854934692, 'eval_runtime': 39.1287, 'eval_samples_per_second': 127.783, 'eval_steps_per_second': 15.973, 'epoch': 8.0}\n",
      "{'loss': 1.1717, 'learning_rate': 2.1875e-05, 'epoch': 9.0}\n"
     ]
    },
    {
     "data": {
      "application/vnd.jupyter.widget-view+json": {
       "model_id": "9e21c3e51618415ea349d42f9f949710",
       "version_major": 2,
       "version_minor": 0
      },
      "text/plain": [
       "  0%|          | 0/625 [00:00<?, ?it/s]"
      ]
     },
     "metadata": {},
     "output_type": "display_data"
    },
    {
     "name": "stdout",
     "output_type": "stream",
     "text": [
      "{'eval_loss': 1.1957685947418213, 'eval_runtime': 39.0077, 'eval_samples_per_second': 128.18, 'eval_steps_per_second': 16.022, 'epoch': 9.0}\n",
      "{'loss': 1.1532, 'learning_rate': 1.8750000000000002e-05, 'epoch': 10.0}\n"
     ]
    },
    {
     "data": {
      "application/vnd.jupyter.widget-view+json": {
       "model_id": "af95398341344b04a8c996bda038ace4",
       "version_major": 2,
       "version_minor": 0
      },
      "text/plain": [
       "  0%|          | 0/625 [00:00<?, ?it/s]"
      ]
     },
     "metadata": {},
     "output_type": "display_data"
    },
    {
     "name": "stdout",
     "output_type": "stream",
     "text": [
      "{'eval_loss': 1.1759912967681885, 'eval_runtime': 38.9817, 'eval_samples_per_second': 128.265, 'eval_steps_per_second': 16.033, 'epoch': 10.0}\n",
      "{'loss': 1.1381, 'learning_rate': 1.5625e-05, 'epoch': 11.0}\n"
     ]
    },
    {
     "data": {
      "application/vnd.jupyter.widget-view+json": {
       "model_id": "9e94bf882359444f87e4039659294930",
       "version_major": 2,
       "version_minor": 0
      },
      "text/plain": [
       "  0%|          | 0/625 [00:00<?, ?it/s]"
      ]
     },
     "metadata": {},
     "output_type": "display_data"
    },
    {
     "name": "stdout",
     "output_type": "stream",
     "text": [
      "{'eval_loss': 1.1692267656326294, 'eval_runtime': 38.5466, 'eval_samples_per_second': 129.713, 'eval_steps_per_second': 16.214, 'epoch': 11.0}\n",
      "{'loss': 1.12, 'learning_rate': 1.25e-05, 'epoch': 12.0}\n"
     ]
    },
    {
     "data": {
      "application/vnd.jupyter.widget-view+json": {
       "model_id": "017391f815504120972cc8fce20dd0f8",
       "version_major": 2,
       "version_minor": 0
      },
      "text/plain": [
       "  0%|          | 0/625 [00:00<?, ?it/s]"
      ]
     },
     "metadata": {},
     "output_type": "display_data"
    },
    {
     "name": "stdout",
     "output_type": "stream",
     "text": [
      "{'eval_loss': 1.1567792892456055, 'eval_runtime': 38.8847, 'eval_samples_per_second': 128.585, 'eval_steps_per_second': 16.073, 'epoch': 12.0}\n",
      "{'loss': 1.1, 'learning_rate': 9.375000000000001e-06, 'epoch': 13.0}\n"
     ]
    },
    {
     "data": {
      "application/vnd.jupyter.widget-view+json": {
       "model_id": "d2ea73b9565b42ada6affd833495766d",
       "version_major": 2,
       "version_minor": 0
      },
      "text/plain": [
       "  0%|          | 0/625 [00:00<?, ?it/s]"
      ]
     },
     "metadata": {},
     "output_type": "display_data"
    },
    {
     "name": "stdout",
     "output_type": "stream",
     "text": [
      "{'eval_loss': 1.1578330993652344, 'eval_runtime': 38.6876, 'eval_samples_per_second': 129.24, 'eval_steps_per_second': 16.155, 'epoch': 13.0}\n",
      "{'loss': 1.0844, 'learning_rate': 6.25e-06, 'epoch': 14.0}\n"
     ]
    },
    {
     "data": {
      "application/vnd.jupyter.widget-view+json": {
       "model_id": "228bb8d952b0406eb438028af5abdbd0",
       "version_major": 2,
       "version_minor": 0
      },
      "text/plain": [
       "  0%|          | 0/625 [00:00<?, ?it/s]"
      ]
     },
     "metadata": {},
     "output_type": "display_data"
    },
    {
     "name": "stdout",
     "output_type": "stream",
     "text": [
      "{'eval_loss': 1.146609902381897, 'eval_runtime': 38.7377, 'eval_samples_per_second': 129.073, 'eval_steps_per_second': 16.134, 'epoch': 14.0}\n",
      "{'loss': 1.0751, 'learning_rate': 3.125e-06, 'epoch': 15.0}\n"
     ]
    },
    {
     "data": {
      "application/vnd.jupyter.widget-view+json": {
       "model_id": "7480faf0905f4b81ba12c5b6e4a7185e",
       "version_major": 2,
       "version_minor": 0
      },
      "text/plain": [
       "  0%|          | 0/625 [00:00<?, ?it/s]"
      ]
     },
     "metadata": {},
     "output_type": "display_data"
    },
    {
     "name": "stdout",
     "output_type": "stream",
     "text": [
      "{'eval_loss': 1.1396753787994385, 'eval_runtime': 38.6586, 'eval_samples_per_second': 129.337, 'eval_steps_per_second': 16.167, 'epoch': 15.0}\n",
      "{'loss': 1.07, 'learning_rate': 0.0, 'epoch': 16.0}\n"
     ]
    },
    {
     "data": {
      "application/vnd.jupyter.widget-view+json": {
       "model_id": "ba58b7de3e1e4adf8da8e7670aa8a66c",
       "version_major": 2,
       "version_minor": 0
      },
      "text/plain": [
       "  0%|          | 0/625 [00:00<?, ?it/s]"
      ]
     },
     "metadata": {},
     "output_type": "display_data"
    },
    {
     "name": "stdout",
     "output_type": "stream",
     "text": [
      "{'eval_loss': 1.1328098773956299, 'eval_runtime': 38.6046, 'eval_samples_per_second': 129.518, 'eval_steps_per_second': 16.19, 'epoch': 16.0}\n",
      "{'train_runtime': 14354.0495, 'train_samples_per_second': 39.013, 'train_steps_per_second': 2.439, 'train_loss': 1.2329976362545705, 'epoch': 16.0}\n"
     ]
    },
    {
     "data": {
      "text/plain": [
       "TrainOutput(global_step=35008, training_loss=1.2329976362545705, metrics={'train_runtime': 14354.0495, 'train_samples_per_second': 39.013, 'train_steps_per_second': 2.439, 'train_loss': 1.2329976362545705, 'epoch': 16.0})"
      ]
     },
     "execution_count": 13,
     "metadata": {},
     "output_type": "execute_result"
    }
   ],
   "source": [
    "# create data collator\n",
    "data_collator = DataCollatorForLanguageModeling(tokenizer=tokenizer,\n",
    "                                                mlm_probability=0.15,\n",
    "                                                return_tensors = \"pt\")\n",
    "\n",
    "# create train args\n",
    "language_tunning_training_args = TrainingArguments(\n",
    "    output_dir = model_config['language_model_output'], \n",
    "    per_device_train_batch_size = model_config['batch_size'],\n",
    "    disable_tqdm=False, logging_strategy=\"epoch\", \n",
    "    evaluation_strategy=\"epoch\", save_strategy=\"no\",\n",
    "    num_train_epochs=model_config['language_model_epochs'], \n",
    "    log_level=\"error\", report_to=\"none\")\n",
    "\n",
    "trainer = Trainer(\n",
    "        model=AutoModelForMaskedLM.from_pretrained(model_config['model_ckpt']).to(device),\n",
    "        tokenizer=tokenizer, args=language_tunning_training_args, data_collator=data_collator,\n",
    "        train_dataset=ds_mlm[\"train\"], eval_dataset=ds_mlm[\"valid\"])\n",
    "\n",
    "trainer.train()"
   ]
  },
  {
   "cell_type": "code",
   "execution_count": 14,
   "metadata": {},
   "outputs": [
    {
     "data": {
      "text/plain": [
       "('./results/tuned_language_256/tokenizer_config.json',\n",
       " './results/tuned_language_256/special_tokens_map.json',\n",
       " './results/tuned_language_256/vocab.txt',\n",
       " './results/tuned_language_256/added_tokens.json',\n",
       " './results/tuned_language_256/tokenizer.json')"
      ]
     },
     "execution_count": 14,
     "metadata": {},
     "output_type": "execute_result"
    }
   ],
   "source": [
    "# save model and tokenizer\n",
    "trainer.save_model(model_config['language_model_output'])\n",
    "tokenizer.save_pretrained(model_config['language_model_output'])"
   ]
  },
  {
   "cell_type": "code",
   "execution_count": 15,
   "metadata": {},
   "outputs": [
    {
     "data": {
      "image/png": "[encoded data removed]",
      "text/plain": [
       "<Figure size 432x288 with 1 Axes>"
      ]
     },
     "metadata": {
      "needs_background": "light"
     },
     "output_type": "display_data"
    }
   ],
   "source": [
    "df_log = pd.DataFrame(trainer.state.log_history)\n",
    "\n",
    "(df_log.dropna(subset=[\"eval_loss\"]).reset_index()[\"eval_loss\"]\n",
    " .plot(label=\"Validation\"))\n",
    "df_log.dropna(subset=[\"loss\"]).reset_index()[\"loss\"].plot(label=\"Train\")\n",
    " \n",
    "plt.xlabel(\"Epochs\")\n",
    "plt.ylabel(\"Loss\")\n",
    "plt.legend(loc=\"upper right\")\n",
    "plt.show()"
   ]
  },
  {
   "cell_type": "markdown",
   "metadata": {},
   "source": [
    "## Fine-Tuning a classifier"
   ]
  },
  {
   "cell_type": "code",
   "execution_count": null,
   "metadata": {},
   "outputs": [],
   "source": [
    "# load tokenizer\n",
    "tokenizer = AutoTokenizer.from_pretrained(model_config['language_model_output'])\n",
    "\n",
    "# create dataset for fine-tuning classifier model\n",
    "ds_enc = ds.map(tokenize, batched=True)\n",
    "ds_enc = ds_enc.remove_columns(['text', 'special_tokens_mask'])\n",
    "\n",
    "ds_enc.set_format(\"torch\")"
   ]
  },
  {
   "cell_type": "code",
   "execution_count": 16,
   "metadata": {},
   "outputs": [],
   "source": [
    "# load model from tuned language model output\n",
    "model = (AutoModelForSequenceClassification\n",
    "         .from_pretrained(model_config['language_model_output'], num_labels=len(label2int))\n",
    "         .to(device))\n",
    "\n",
    "training_args_fine_tune = TrainingArguments(\n",
    "    output_dir=model_config['classifier_model_output'], \n",
    "    num_train_epochs=model_config['classifier_model_epochs'], \n",
    "    learning_rate=3e-5,\n",
    "    lr_scheduler_type='constant', \n",
    "    per_device_train_batch_size=model_config['batch_size'],\n",
    "    per_device_eval_batch_size=model_config['batch_size'], \n",
    "    weight_decay=0.01, \n",
    "    evaluation_strategy=\"epoch\", save_strategy=\"no\",logging_strategy=\"epoch\",\n",
    "    # load_best_model_at_end=True,\n",
    "    disable_tqdm=False, save_total_limit=2, log_level='error')"
   ]
  },
  {
   "cell_type": "code",
   "execution_count": 17,
   "metadata": {},
   "outputs": [],
   "source": [
    "# write the metrics function \n",
    "def compute_metrics(pred):\n",
    "    labels = pred.label_ids\n",
    "    preds = pred.predictions.argmax(-1)\n",
    "    f1 = f1_score(labels, preds, average=\"weighted\")\n",
    "    acc = accuracy_score(labels, preds)\n",
    "    return {\"accuracy\": acc, \"f1\": f1}"
   ]
  },
  {
   "cell_type": "code",
   "execution_count": 18,
   "metadata": {},
   "outputs": [
    {
     "data": {
      "application/vnd.jupyter.widget-view+json": {
       "model_id": "5c1852c9dab1452dadea966d522a5044",
       "version_major": 2,
       "version_minor": 0
      },
      "text/plain": [
       "  0%|          | 0/35 [00:00<?, ?ba/s]"
      ]
     },
     "metadata": {},
     "output_type": "display_data"
    },
    {
     "data": {
      "application/vnd.jupyter.widget-view+json": {
       "model_id": "ac3b0c6f293c4eedb5eed37c7a8872ce",
       "version_major": 2,
       "version_minor": 0
      },
      "text/plain": [
       "  0%|          | 0/5 [00:00<?, ?ba/s]"
      ]
     },
     "metadata": {},
     "output_type": "display_data"
    },
    {
     "data": {
      "application/vnd.jupyter.widget-view+json": {
       "model_id": "9333f8c6707e42c48a8b118c6173925f",
       "version_major": 2,
       "version_minor": 0
      },
      "text/plain": [
       "  0%|          | 0/10 [00:00<?, ?ba/s]"
      ]
     },
     "metadata": {},
     "output_type": "display_data"
    }
   ],
   "source": [
    "# create\n",
    "ds_enc = ds.map(tokenize, batched=True)\n",
    "ds_enc = ds_enc.remove_columns(['text', 'special_tokens_mask'])\n",
    "\n",
    "ds_enc.set_format(\"torch\")"
   ]
  },
  {
   "cell_type": "code",
   "execution_count": 19,
   "metadata": {},
   "outputs": [
    {
     "data": {
      "application/vnd.jupyter.widget-view+json": {
       "model_id": "a4f28bd4c27e42289bad51c44783901f",
       "version_major": 2,
       "version_minor": 0
      },
      "text/plain": [
       "  0%|          | 0/6564 [00:00<?, ?it/s]"
      ]
     },
     "metadata": {},
     "output_type": "display_data"
    },
    {
     "name": "stdout",
     "output_type": "stream",
     "text": [
      "{'loss': 0.5378, 'learning_rate': 3e-05, 'epoch': 1.0}\n"
     ]
    },
    {
     "data": {
      "application/vnd.jupyter.widget-view+json": {
       "model_id": "4185ee34fc874adeb563604422c5be34",
       "version_major": 2,
       "version_minor": 0
      },
      "text/plain": [
       "  0%|          | 0/313 [00:00<?, ?it/s]"
      ]
     },
     "metadata": {},
     "output_type": "display_data"
    },
    {
     "name": "stdout",
     "output_type": "stream",
     "text": [
      "{'eval_loss': 0.4927845299243927, 'eval_accuracy': 0.8274, 'eval_f1': 0.8256655927994784, 'eval_runtime': 32.0782, 'eval_samples_per_second': 155.869, 'eval_steps_per_second': 9.757, 'epoch': 1.0}\n",
      "{'loss': 0.3635, 'learning_rate': 3e-05, 'epoch': 2.0}\n"
     ]
    },
    {
     "data": {
      "application/vnd.jupyter.widget-view+json": {
       "model_id": "57f664774b864accbe359366e0937bb6",
       "version_major": 2,
       "version_minor": 0
      },
      "text/plain": [
       "  0%|          | 0/313 [00:00<?, ?it/s]"
      ]
     },
     "metadata": {},
     "output_type": "display_data"
    },
    {
     "name": "stdout",
     "output_type": "stream",
     "text": [
      "{'eval_loss': 0.4598269462585449, 'eval_accuracy': 0.8502, 'eval_f1': 0.8464958637489183, 'eval_runtime': 32.1022, 'eval_samples_per_second': 155.753, 'eval_steps_per_second': 9.75, 'epoch': 2.0}\n",
      "{'loss': 0.2462, 'learning_rate': 3e-05, 'epoch': 3.0}\n"
     ]
    },
    {
     "data": {
      "application/vnd.jupyter.widget-view+json": {
       "model_id": "2add1accdfc341f2ac9d04998f0fa708",
       "version_major": 2,
       "version_minor": 0
      },
      "text/plain": [
       "  0%|          | 0/313 [00:00<?, ?it/s]"
      ]
     },
     "metadata": {},
     "output_type": "display_data"
    },
    {
     "name": "stdout",
     "output_type": "stream",
     "text": [
      "{'eval_loss': 0.549388587474823, 'eval_accuracy': 0.845, 'eval_f1': 0.8445288391802589, 'eval_runtime': 32.0532, 'eval_samples_per_second': 155.991, 'eval_steps_per_second': 9.765, 'epoch': 3.0}\n",
      "{'train_runtime': 2104.5894, 'train_samples_per_second': 49.891, 'train_steps_per_second': 3.119, 'train_loss': 0.3825212068342712, 'epoch': 3.0}\n"
     ]
    },
    {
     "data": {
      "text/plain": [
       "TrainOutput(global_step=6564, training_loss=0.3825212068342712, metrics={'train_runtime': 2104.5894, 'train_samples_per_second': 49.891, 'train_steps_per_second': 3.119, 'train_loss': 0.3825212068342712, 'epoch': 3.0})"
      ]
     },
     "execution_count": 19,
     "metadata": {},
     "output_type": "execute_result"
    }
   ],
   "source": [
    "trainer = Trainer(model=model, args=training_args_fine_tune, \n",
    "                  compute_metrics=compute_metrics,\n",
    "                  train_dataset=ds_enc[\"train\"],\n",
    "                  eval_dataset=ds_enc[\"valid\"],\n",
    "                  tokenizer=tokenizer)\n",
    "trainer.train()"
   ]
  },
  {
   "cell_type": "code",
   "execution_count": 20,
   "metadata": {},
   "outputs": [
    {
     "data": {
      "application/vnd.jupyter.widget-view+json": {
       "model_id": "2ea68ed6f7cb4bab9d7072e11381a5b2",
       "version_major": 2,
       "version_minor": 0
      },
      "text/plain": [
       "  0%|          | 0/625 [00:00<?, ?it/s]"
      ]
     },
     "metadata": {},
     "output_type": "display_data"
    },
    {
     "data": {
      "text/plain": [
       "{'accuracy': 0.8464, 'f1': 0.8455759686655947}"
      ]
     },
     "execution_count": 20,
     "metadata": {},
     "output_type": "execute_result"
    }
   ],
   "source": [
    "test_results = trainer.predict(ds_enc['test'])\n",
    "metrics1 = compute_metrics(test_results)\n",
    "metrics1"
   ]
  },
  {
   "cell_type": "code",
   "execution_count": 28,
   "metadata": {},
   "outputs": [
    {
     "name": "stderr",
     "output_type": "stream",
     "text": [
      "Saving model checkpoint to ./results/tuned_classifier_256/\n",
      "Configuration saved in ./results/tuned_classifier_256/config.json\n",
      "Model weights saved in ./results/tuned_classifier_256/pytorch_model.bin\n",
      "tokenizer config file saved in ./results/tuned_classifier_256/tokenizer_config.json\n",
      "Special tokens file saved in ./results/tuned_classifier_256/special_tokens_map.json\n"
     ]
    }
   ],
   "source": [
    "trainer.save_model(model_config['classifier_model_output'])\n",
    "tokenizer.save_pretrained(model_config['classifier_model_output'])"
   ]
  },
  {
   "cell_type": "markdown",
   "metadata": {},
   "source": [
    "## predict on test dataset"
   ]
  },
  {
   "cell_type": "markdown",
   "metadata": {},
   "source": [
    "[test link](https://discuss.huggingface.co/t/using-trainer-at-inference-time/9378/2)"
   ]
  },
  {
   "cell_type": "code",
   "execution_count": 29,
   "metadata": {},
   "outputs": [
    {
     "name": "stderr",
     "output_type": "stream",
     "text": [
      "loading configuration file ./results/tuned_classifier_256/config.json\n",
      "Model config BertConfig {\n",
      "  \"_name_or_path\": \"./results/tuned_classifier_256/\",\n",
      "  \"architectures\": [\n",
      "    \"BertForSequenceClassification\"\n",
      "  ],\n",
      "  \"attention_probs_dropout_prob\": 0.1,\n",
      "  \"classifier_dropout\": null,\n",
      "  \"gradient_checkpointing\": false,\n",
      "  \"hidden_act\": \"gelu\",\n",
      "  \"hidden_dropout_prob\": 0.1,\n",
      "  \"hidden_size\": 768,\n",
      "  \"id2label\": {\n",
      "    \"0\": \"LABEL_0\",\n",
      "    \"1\": \"LABEL_1\",\n",
      "    \"2\": \"LABEL_2\",\n",
      "    \"3\": \"LABEL_3\",\n",
      "    \"4\": \"LABEL_4\",\n",
      "    \"5\": \"LABEL_5\",\n",
      "    \"6\": \"LABEL_6\"\n",
      "  },\n",
      "  \"initializer_range\": 0.02,\n",
      "  \"intermediate_size\": 3072,\n",
      "  \"label2id\": {\n",
      "    \"LABEL_0\": 0,\n",
      "    \"LABEL_1\": 1,\n",
      "    \"LABEL_2\": 2,\n",
      "    \"LABEL_3\": 3,\n",
      "    \"LABEL_4\": 4,\n",
      "    \"LABEL_5\": 5,\n",
      "    \"LABEL_6\": 6\n",
      "  },\n",
      "  \"layer_norm_eps\": 1e-12,\n",
      "  \"max_position_embeddings\": 512,\n",
      "  \"model_type\": \"bert\",\n",
      "  \"num_attention_heads\": 12,\n",
      "  \"num_hidden_layers\": 12,\n",
      "  \"pad_token_id\": 0,\n",
      "  \"position_embedding_type\": \"absolute\",\n",
      "  \"problem_type\": \"single_label_classification\",\n",
      "  \"torch_dtype\": \"float32\",\n",
      "  \"transformers_version\": \"4.13.0\",\n",
      "  \"type_vocab_size\": 2,\n",
      "  \"use_cache\": true,\n",
      "  \"vocab_size\": 30522\n",
      "}\n",
      "\n",
      "loading weights file ./results/tuned_classifier_256/pytorch_model.bin\n",
      "All model checkpoint weights were used when initializing BertForSequenceClassification.\n",
      "\n",
      "All the weights of BertForSequenceClassification were initialized from the model checkpoint at ./results/tuned_classifier_256/.\n",
      "If your task is similar to the task the model of the checkpoint was trained on, you can already use BertForSequenceClassification for predictions without further training.\n",
      "PyTorch: setting up devices\n",
      "The default value for the training argument `--report_to` will change in v5 (from all installed integrations to none). In v5, you will need to use `--report_to all` to get the same behavior as now. You should start updating your code and make this info disappear :-).\n",
      "***** Running Prediction *****\n",
      "  Num examples = 10000\n",
      "  Batch size = 1\n"
     ]
    },
    {
     "data": {
      "application/vnd.jupyter.widget-view+json": {
       "model_id": "d816174213d9493fa3ce721bf7caee23",
       "version_major": 2,
       "version_minor": 0
      },
      "text/plain": [
       "  0%|          | 0/10000 [00:00<?, ?it/s]"
      ]
     },
     "metadata": {},
     "output_type": "display_data"
    },
    {
     "data": {
      "text/plain": [
       "{'accuracy': 0.8464, 'f1': 0.8455759686655947}"
      ]
     },
     "execution_count": 29,
     "metadata": {},
     "output_type": "execute_result"
    }
   ],
   "source": [
    "test_model = AutoModelForSequenceClassification.from_pretrained(model_config['classifier_model_output']).to(device)\n",
    "\n",
    "# arguments for Trainer\n",
    "test_args = TrainingArguments(\n",
    "    output_dir = model_config['classifier_model_output'],\n",
    "    do_train = False,\n",
    "    do_predict = True,\n",
    "    per_device_eval_batch_size = 1,   \n",
    "    dataloader_drop_last = False    \n",
    ")\n",
    "\n",
    "# init trainer\n",
    "test_trainer = Trainer(model = test_model, args = test_args, compute_metrics = compute_metrics)\n",
    "\n",
    "test_results = test_trainer.predict(ds_enc['test'])\n",
    "metrics1 = compute_metrics(test_results)\n",
    "metrics1"
   ]
  },
  {
   "cell_type": "code",
   "execution_count": null,
   "metadata": {},
   "outputs": [],
   "source": []
  }
 ],
 "metadata": {
  "kernelspec": {
   "display_name": "Python 3.8.5 ('base')",
   "language": "python",
   "name": "python3"
  },
  "language_info": {
   "codemirror_mode": {
    "name": "ipython",
    "version": 3
   },
   "file_extension": ".py",
   "mimetype": "text/x-python",
   "name": "python",
   "nbconvert_exporter": "python",
   "pygments_lexer": "ipython3",
   "version": "3.8.5 (default, Sep  3 2020, 21:29:08) [MSC v.1916 64 bit (AMD64)]"
  },
  "vscode": {
   "interpreter": {
    "hash": "7202c71354789b9729951f57922a4d80fbc45b30e31f45163943ff4ec8d73cbd"
   }
  }
 },
 "nbformat": 4,
 "nbformat_minor": 4
}
